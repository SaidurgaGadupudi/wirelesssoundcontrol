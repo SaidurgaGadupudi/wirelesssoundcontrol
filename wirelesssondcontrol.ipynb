{
 "cells": [
  {
   "cell_type": "code",
   "execution_count": 2,
   "metadata": {},
   "outputs": [
    {
     "ename": "ModuleNotFoundError",
     "evalue": "No module named 'mediapipe'",
     "output_type": "error",
     "traceback": [
      "\u001b[1;31m---------------------------------------------------------------------------\u001b[0m",
      "\u001b[1;31mModuleNotFoundError\u001b[0m                       Traceback (most recent call last)",
      "\u001b[1;32m~\\AppData\\Local\\Temp/ipykernel_5892/3387106107.py\u001b[0m in \u001b[0;36m<module>\u001b[1;34m\u001b[0m\n\u001b[0;32m      1\u001b[0m \u001b[1;32mimport\u001b[0m \u001b[0mcv2\u001b[0m\u001b[1;33m\u001b[0m\u001b[1;33m\u001b[0m\u001b[0m\n\u001b[1;32m----> 2\u001b[1;33m \u001b[1;32mimport\u001b[0m \u001b[0mmediapipe\u001b[0m \u001b[1;32mas\u001b[0m \u001b[0mmp\u001b[0m\u001b[1;33m\u001b[0m\u001b[1;33m\u001b[0m\u001b[0m\n\u001b[0m\u001b[0;32m      3\u001b[0m \u001b[1;33m\u001b[0m\u001b[0m\n\u001b[0;32m      4\u001b[0m \u001b[1;32mimport\u001b[0m \u001b[0mmath\u001b[0m\u001b[1;33m\u001b[0m\u001b[1;33m\u001b[0m\u001b[0m\n\u001b[0;32m      5\u001b[0m \u001b[1;32mimport\u001b[0m \u001b[0mnumpy\u001b[0m \u001b[1;32mas\u001b[0m \u001b[0mnp\u001b[0m\u001b[1;33m\u001b[0m\u001b[1;33m\u001b[0m\u001b[0m\n",
      "\u001b[1;31mModuleNotFoundError\u001b[0m: No module named 'mediapipe'"
     ]
    }
   ],
   "source": [
    "import cv2\n",
    "import mediapipe as mp\n",
    "\n",
    "import math\n",
    "import numpy as np\n",
    "from ctypes import cast, POINTER\n",
    "from comtypes import CLSCTX_ALL\n",
    "from pycaw.pycaw import AudioUtilities, IAudioEndpointVolume\n",
    "cap = cv2.VideoCapture(0)\n",
    "\n",
    "pTime = 0\n",
    "cTime = 0\n",
    "mpHands =  mp.solutions.hands\n",
    "hands = mpHands.Hands()\n",
    "mpDraws = mp.solutions.drawing_utils\n",
    "devices = AudioUtilities.GetSpeakers()\n",
    "interface = devices.Activate(\n",
    "    IAudioEndpointVolume._iid_, CLSCTX_ALL, None)\n",
    "volume = cast(interface, POINTER(IAudioEndpointVolume))\n",
    "\n",
    "volRange = volume.GetVolumeRange()\n",
    "minVol = volRange[0]\n",
    "maxVol = volRange[1]\n",
    "while True:\n",
    "    success , img = cap.read() #read image\n",
    "    imgRGB = cv2.cvtColor(img , cv2.COLOR_BGR2RGB)\n",
    "    results = hands.process(imgRGB)\n",
    "    if results.multi_hand_landmarks:\n",
    "        for handLms in results.multi_hand_landmarks:\n",
    "            lmList =[]\n",
    "            for id , lm in enumerate(handLms.landmark):\n",
    "                \n",
    "                \n",
    "                h , w , c = img.shape\n",
    "                cx , cy = int(lm.x*w) ,int(lm.y*h)\n",
    "                \n",
    "                lmList.append([id, cx, cy])\n",
    "\n",
    "                \n",
    "                \n",
    "            \n",
    "                mpDraws.draw_landmarks(img , handLms , mpHands.HAND_CONNECTIONS)\n",
    "                \n",
    "\n",
    "            if lmList:    \n",
    "                x1 , y1 = lmList[4][1] , lmList[4][2]\n",
    "                x2 , y2 = lmList[8][1] , lmList[8][2]\n",
    "                cv2.circle(img , (x1 ,y1) ,15 , (255,0,255) ,cv2.FILLED)\n",
    "                cv2.circle(img , (x2 ,y2) ,15 , (255,0,255) ,cv2.FILLED)\n",
    "                \n",
    "                cv2.line(img, (x1,y1) , (x2,y2) , (255 , 0, 255) ,3)\n",
    "\n",
    "                z1 = (x1 + x2)//2\n",
    "                z2 = (y1 + y2)//2\n",
    "\n",
    "                cv2.circle(img , (z1,z2),15 ,(255,0,0) , cv2.FILLED )\n",
    "                length = math.hypot(x2- x1 , y2- y1)\n",
    "                \n",
    "\n",
    "                if length < 50:\n",
    "                    cv2.circle(img , (z1 , z2) ,15 ,(255,255,255) , cv2.FILLED)\n",
    "                \n",
    "            vol = np.interp(length , [50 ,300] ,[minVol ,maxVol])\n",
    "            volBar = np.interp(length , [50,300] ,[400 ,150])\n",
    "            volPer = np.interp(length , [50 , 300] , [0,100])\n",
    "            print(int(length) , vol)\n",
    "            \n",
    "            volume.SetMasterVolumeLevel(vol, None)\n",
    "            \n",
    "            cv2.rectangle(img ,(50,150) , (85,400) ,(0,255,0) , 3)\n",
    "            cv2.rectangle(img ,(50,int(volBar)) , (85,400) ,(0,255,0) , cv2.FILLED)\n",
    "            cv2.putText(img , f'{int(volPer)}%', (40,450) ,cv2.FONT_HERSHEY_PLAIN,3 ,(0,255,255) ,3)\n",
    "            \n",
    "            \n",
    "\n",
    "                \n",
    "            \n",
    "            \n",
    "\n",
    "    \n",
    "\n",
    "    cv2.imshow(\"Image\" , img)   #display image\n",
    "    cv2.waitKey(1)"
   ]
  }
 ],
 "metadata": {
  "kernelspec": {
   "display_name": "Python 3.9.7 ('base')",
   "language": "python",
   "name": "python3"
  },
  "language_info": {
   "codemirror_mode": {
    "name": "ipython",
    "version": 3
   },
   "file_extension": ".py",
   "mimetype": "text/x-python",
   "name": "python",
   "nbconvert_exporter": "python",
   "pygments_lexer": "ipython3",
   "version": "3.9.7"
  },
  "orig_nbformat": 4,
  "vscode": {
   "interpreter": {
    "hash": "ce36b566dd1936ef776457035ec737573afde42c5c8219b4ef2c50a16f1421a0"
   }
  }
 },
 "nbformat": 4,
 "nbformat_minor": 2
}
